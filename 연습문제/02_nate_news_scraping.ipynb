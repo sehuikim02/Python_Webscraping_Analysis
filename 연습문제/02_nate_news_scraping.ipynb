{
 "cells": [
  {
   "cell_type": "markdown",
   "id": "e7931a02",
   "metadata": {},
   "source": [
    "### 2-1. Nate 뉴스기사 제목 스크래핑하기 (필수)\n",
    "https://news.nate.com/recent?mid=n0100\n",
    "\n",
    "최신뉴스, 정치 , 경제, 사회, 세계, IT/과학 \n",
    "6개의 섹션의 뉴스를 출력하는 함수를 생성하여 스크래핑 하기\n",
    "\n",
    "Image, 기사제목, 기사링크\n",
    "\n",
    "뉴스기사의 Image를 출력 하세요 \n",
    "1) Image의 절대경로와 상대 경로를 합치려면 urljoin 함수를 사용하세요.\n",
    "    from urllib.parse import urljoin\n",
    "\n",
    "2) Image 출력은 Image 클래스와 display 함수를 사용하세요.\n",
    "    from IPython.display import Image, display\n",
    "\n",
    "3) img 엘리먼트의 존재 여부를 체크하신 후에 src 속성의 이미지를 경로를 추출하기\n",
    "  => Image 가 없는 뉴스도 있기 때문에 "
   ]
  },
  {
   "cell_type": "code",
   "execution_count": 1,
   "id": "84eceeca",
   "metadata": {},
   "outputs": [
    {
     "name": "stdout",
     "output_type": "stream",
     "text": [
      "{'최신뉴스': 'n0100', '정치': 'n0200', '경제': 'n0300', '사회': 'n0400', '세계': 'n0500', 'IT/과학': 'n0600'}\n",
      "https://news.nate.com/recent?mid=n0300\n",
      "<class 'requests.models.Response'>\n",
      "200\n",
      "======> https://news.nate.com/recent?mid=n0300 경제 뉴스 <======\n",
      "20\n",
      "============>> 1\n",
      "https://news.nate.com/view/20250725n08049?mid=n0300\n",
      "현대모비스, 주당 1500원 현금배당 결정\n",
      "============>> 2\n",
      "https://news.nate.com/view/20250725n08048?mid=n0300\n",
      "https://thumbnews.nateimg.co.kr/news90///news.nateimg.co.kr/orgImg/hr/2025/07/25/news-p.v1.20250725.ce9e359c5d60468ca700565699aff8c6_P1.png\n"
     ]
    },
    {
     "data": {
      "text/html": [
       "<img src=\"https://thumbnews.nateimg.co.kr/news90///news.nateimg.co.kr/orgImg/hr/2025/07/25/news-p.v1.20250725.ce9e359c5d60468ca700565699aff8c6_P1.png\"/>"
      ],
      "text/plain": [
       "<IPython.core.display.Image object>"
      ]
     },
     "metadata": {},
     "output_type": "display_data"
    },
    {
     "name": "stdout",
     "output_type": "stream",
     "text": [
      "\"옆나라 보고 기대 부풀었는데\"…한미 회담 연기에 시동  끈 자동차株 [투자360]\n",
      "============>> 3\n",
      "https://news.nate.com/view/20250725n08047?mid=n0300\n",
      "https://thumbnews.nateimg.co.kr/news90///news.nateimg.co.kr/orgImg/na/2025/07/25/7412785_high.jpg\n"
     ]
    },
    {
     "data": {
      "text/html": [
       "<img src=\"https://thumbnews.nateimg.co.kr/news90///news.nateimg.co.kr/orgImg/na/2025/07/25/7412785_high.jpg\"/>"
      ],
      "text/plain": [
       "<IPython.core.display.Image object>"
      ]
     },
     "metadata": {},
     "output_type": "display_data"
    },
    {
     "name": "stdout",
     "output_type": "stream",
     "text": [
      "신세계免, '소셜아이어워드 2025' 콘텐츠 혁신대상 수상\n",
      "============>> 4\n",
      "https://news.nate.com/view/20250725n00337?mid=n0300\n",
      "https://thumbnews.nateimg.co.kr/news90///news.nateimg.co.kr/orgImg/ch/2025/07/25/ch_1753404124913_998043_0.jpg\n"
     ]
    },
    {
     "data": {
      "text/html": [
       "<img src=\"https://thumbnews.nateimg.co.kr/news90///news.nateimg.co.kr/orgImg/ch/2025/07/25/ch_1753404124913_998043_0.jpg\"/>"
      ],
      "text/plain": [
       "<IPython.core.display.Image object>"
      ]
     },
     "metadata": {},
     "output_type": "display_data"
    },
    {
     "name": "stdout",
     "output_type": "stream",
     "text": [
      "SK하이닉스 2분기 최고 실적…\"HBM 질주 하반기도 계속\"\n",
      "============>> 5\n",
      "https://news.nate.com/view/20250725n08026?mid=n0300\n",
      "https://thumbnews.nateimg.co.kr/news90///news.nateimg.co.kr/orgImg/aj/2025/07/25/20250725094055797980.jpg\n"
     ]
    },
    {
     "data": {
      "text/html": [
       "<img src=\"https://thumbnews.nateimg.co.kr/news90///news.nateimg.co.kr/orgImg/aj/2025/07/25/20250725094055797980.jpg\"/>"
      ],
      "text/plain": [
       "<IPython.core.display.Image object>"
      ]
     },
     "metadata": {},
     "output_type": "display_data"
    },
    {
     "name": "stdout",
     "output_type": "stream",
     "text": [
      "KAI, 'K-AI 패밀리' 기술교류회 개최…\"출자회사간 기술적 연대 강화\"\n",
      "============>> 6\n",
      "https://news.nate.com/view/20250725n08020?mid=n0300\n",
      "https://thumbnews.nateimg.co.kr/news90///news.nateimg.co.kr/orgImg/aj/2025/07/25/20250725091140793798.jpg\n"
     ]
    },
    {
     "data": {
      "text/html": [
       "<img src=\"https://thumbnews.nateimg.co.kr/news90///news.nateimg.co.kr/orgImg/aj/2025/07/25/20250725091140793798.jpg\"/>"
      ],
      "text/plain": [
       "<IPython.core.display.Image object>"
      ]
     },
     "metadata": {},
     "output_type": "display_data"
    },
    {
     "name": "stdout",
     "output_type": "stream",
     "text": [
      "'삼다수' 유통권 입찰에 11곳 참전…광동·풀무원·동화약품 도전장\n",
      "============>> 7\n",
      "https://news.nate.com/view/20250725n08018?mid=n0300\n",
      "https://thumbnews.nateimg.co.kr/news90///news.nateimg.co.kr/orgImg/ae/2025/07/25/ae_1753404124887_985547_0.jpg\n"
     ]
    },
    {
     "data": {
      "text/html": [
       "<img src=\"https://thumbnews.nateimg.co.kr/news90///news.nateimg.co.kr/orgImg/ae/2025/07/25/ae_1753404124887_985547_0.jpg\"/>"
      ],
      "text/plain": [
       "<IPython.core.display.Image object>"
      ]
     },
     "metadata": {},
     "output_type": "display_data"
    },
    {
     "name": "stdout",
     "output_type": "stream",
     "text": [
      "주가조작 합동대응단, 금감원 '저승사자' 이승우 부원장보가 이끈다\n",
      "============>> 8\n",
      "https://news.nate.com/view/20250725n08017?mid=n0300\n",
      "https://thumbnews.nateimg.co.kr/news90///news.nateimg.co.kr/orgImg/yt/2025/07/25/PYH2025072501880001300_P2.jpg\n"
     ]
    },
    {
     "data": {
      "text/html": [
       "<img src=\"https://thumbnews.nateimg.co.kr/news90///news.nateimg.co.kr/orgImg/yt/2025/07/25/PYH2025072501880001300_P2.jpg\"/>"
      ],
      "text/plain": [
       "<IPython.core.display.Image object>"
      ]
     },
     "metadata": {},
     "output_type": "display_data"
    },
    {
     "name": "stdout",
     "output_type": "stream",
     "text": [
      "'한미협상 주시' 코스피 장초반 보합권 등락 후 소폭 상승세(종합)\n",
      "============>> 9\n",
      "https://news.nate.com/view/20250725n08013?mid=n0300\n",
      "https://thumbnews.nateimg.co.kr/news90///news.nateimg.co.kr/orgImg/fr/2025/07/25/art_697616_1753403926.jpg\n"
     ]
    },
    {
     "data": {
      "text/html": [
       "<img src=\"https://thumbnews.nateimg.co.kr/news90///news.nateimg.co.kr/orgImg/fr/2025/07/25/art_697616_1753403926.jpg\"/>"
      ],
      "text/plain": [
       "<IPython.core.display.Image object>"
      ]
     },
     "metadata": {},
     "output_type": "display_data"
    },
    {
     "name": "stdout",
     "output_type": "stream",
     "text": [
      "\"리튬 가격 살아났다\" 엔켐, 전해액 업계 수익성 개선 '청신호'\n",
      "============>> 10\n",
      "https://news.nate.com/view/20250725n01028?mid=n0300\n",
      "https://thumbnews.nateimg.co.kr/news90///news.nateimg.co.kr/orgImg/na/2025/07/25/7412135_article.gif\n"
     ]
    },
    {
     "data": {
      "text/html": [
       "<img src=\"https://thumbnews.nateimg.co.kr/news90///news.nateimg.co.kr/orgImg/na/2025/07/25/7412135_article.gif\"/>"
      ],
      "text/plain": [
       "<IPython.core.display.Image object>"
      ]
     },
     "metadata": {},
     "output_type": "display_data"
    },
    {
     "name": "stdout",
     "output_type": "stream",
     "text": [
      "베트남 흥옌에 'K-산단' 실현…신속 행정·공공 플랫폼 주목\n",
      "============>> 11\n",
      "https://news.nate.com/view/20250725n08006?mid=n0300\n",
      "https://thumbnews.nateimg.co.kr/news90///news.nateimg.co.kr/orgImg/hr/2025/07/25/news-p.v1.20250724.0104a85453ae45ef8fcbb96d36363b94_P1.png\n"
     ]
    },
    {
     "data": {
      "text/html": [
       "<img src=\"https://thumbnews.nateimg.co.kr/news90///news.nateimg.co.kr/orgImg/hr/2025/07/25/news-p.v1.20250724.0104a85453ae45ef8fcbb96d36363b94_P1.png\"/>"
      ],
      "text/plain": [
       "<IPython.core.display.Image object>"
      ]
     },
     "metadata": {},
     "output_type": "display_data"
    },
    {
     "name": "stdout",
     "output_type": "stream",
     "text": [
      "한국IR협의회 \"에코프로, 지주사 기업가치 재평가 기대\"\n",
      "============>> 12\n",
      "https://news.nate.com/view/20250725n07998?mid=n0300\n",
      "https://thumbnews.nateimg.co.kr/news90///news.nateimg.co.kr/orgImg/hk/2025/07/25/mod_stk_20250725_4322.jpg\n"
     ]
    },
    {
     "data": {
      "text/html": [
       "<img src=\"https://thumbnews.nateimg.co.kr/news90///news.nateimg.co.kr/orgImg/hk/2025/07/25/mod_stk_20250725_4322.jpg\"/>"
      ],
      "text/plain": [
       "<IPython.core.display.Image object>"
      ]
     },
     "metadata": {},
     "output_type": "display_data"
    },
    {
     "name": "stdout",
     "output_type": "stream",
     "text": [
      "'대창' 52주 신고가 경신, 전일 외국인 대량 순매수\n",
      "============>> 13\n",
      "https://news.nate.com/view/20250725n07995?mid=n0300\n",
      "https://thumbnews.nateimg.co.kr/news90///news.nateimg.co.kr/orgImg/sv/2025/07/25/202094846_700.jpg\n"
     ]
    },
    {
     "data": {
      "text/html": [
       "<img src=\"https://thumbnews.nateimg.co.kr/news90///news.nateimg.co.kr/orgImg/sv/2025/07/25/202094846_700.jpg\"/>"
      ],
      "text/plain": [
       "<IPython.core.display.Image object>"
      ]
     },
     "metadata": {},
     "output_type": "display_data"
    },
    {
     "name": "stdout",
     "output_type": "stream",
     "text": [
      "산업장관, 미 상무장관과 80분 무역협상\n",
      "============>> 14\n",
      "https://news.nate.com/view/20250725n05645?mid=n0300\n",
      "https://thumbnews.nateimg.co.kr/news90///news.nateimg.co.kr/orgImg/ae/2025/07/25/ae_1753404066465_211716_0.jpg\n"
     ]
    },
    {
     "data": {
      "text/html": [
       "<img src=\"https://thumbnews.nateimg.co.kr/news90///news.nateimg.co.kr/orgImg/ae/2025/07/25/ae_1753404066465_211716_0.jpg\"/>"
      ],
      "text/plain": [
       "<IPython.core.display.Image object>"
      ]
     },
     "metadata": {},
     "output_type": "display_data"
    },
    {
     "name": "stdout",
     "output_type": "stream",
     "text": [
      "한국타이어, 아이오닉 5 N 전용 타이어 단독 공급\n",
      "============>> 15\n",
      "https://news.nate.com/view/20250725n07990?mid=n0300\n",
      "https://thumbnews.nateimg.co.kr/news90///news.nateimg.co.kr/orgImg/ns/2025/07/25/NISI20250522_0001849838_web.jpg\n"
     ]
    },
    {
     "data": {
      "text/html": [
       "<img src=\"https://thumbnews.nateimg.co.kr/news90///news.nateimg.co.kr/orgImg/ns/2025/07/25/NISI20250522_0001849838_web.jpg\"/>"
      ],
      "text/plain": [
       "<IPython.core.display.Image object>"
      ]
     },
     "metadata": {},
     "output_type": "display_data"
    },
    {
     "name": "stdout",
     "output_type": "stream",
     "text": [
      "가스기술公, 규제 필요성 입증 책임 통해 합리화 나선다\n",
      "============>> 16\n",
      "https://news.nate.com/view/20250725n07989?mid=n0300\n",
      "https://thumbnews.nateimg.co.kr/news90///news.nateimg.co.kr/orgImg/hk/2025/07/25/01.41217646.1.jpg\n"
     ]
    },
    {
     "data": {
      "text/html": [
       "<img src=\"https://thumbnews.nateimg.co.kr/news90///news.nateimg.co.kr/orgImg/hk/2025/07/25/01.41217646.1.jpg\"/>"
      ],
      "text/plain": [
       "<IPython.core.display.Image object>"
      ]
     },
     "metadata": {},
     "output_type": "display_data"
    },
    {
     "name": "stdout",
     "output_type": "stream",
     "text": [
      "서대문구 북가좌6구역, 34층·1984가구 재건축 '속도'\n",
      "============>> 17\n",
      "https://news.nate.com/view/20250725n07987?mid=n0300\n",
      "https://thumbnews.nateimg.co.kr/news90///news.nateimg.co.kr/orgImg/is/2025/07/25/isp20250725000076.800x.0.png\n"
     ]
    },
    {
     "data": {
      "text/html": [
       "<img src=\"https://thumbnews.nateimg.co.kr/news90///news.nateimg.co.kr/orgImg/is/2025/07/25/isp20250725000076.800x.0.png\"/>"
      ],
      "text/plain": [
       "<IPython.core.display.Image object>"
      ]
     },
     "metadata": {},
     "output_type": "display_data"
    },
    {
     "name": "stdout",
     "output_type": "stream",
     "text": [
      "셀리맥스, 상반기 에이블리 뷰티 어워즈 선크림·클렌징폼 부문 1위 달성\n",
      "============>> 18\n",
      "https://news.nate.com/view/20250725n07983?mid=n0300\n",
      "https://thumbnews.nateimg.co.kr/news90///news.nateimg.co.kr/orgImg/ae/2025/07/25/ae_1753404064914_328164_0.jpg\n"
     ]
    },
    {
     "data": {
      "text/html": [
       "<img src=\"https://thumbnews.nateimg.co.kr/news90///news.nateimg.co.kr/orgImg/ae/2025/07/25/ae_1753404064914_328164_0.jpg\"/>"
      ],
      "text/plain": [
       "<IPython.core.display.Image object>"
      ]
     },
     "metadata": {},
     "output_type": "display_data"
    },
    {
     "name": "stdout",
     "output_type": "stream",
     "text": [
      "바스프, 日 쿄라쿠에 '울트라손' 공급…재사용 식기로 순환경제 동참\n",
      "============>> 19\n",
      "https://news.nate.com/view/20250725n07982?mid=n0300\n",
      "https://thumbnews.nateimg.co.kr/news90///news.nateimg.co.kr/orgImg/at/2025/07/25/2025072501002466100147651.jpg\n"
     ]
    },
    {
     "data": {
      "text/html": [
       "<img src=\"https://thumbnews.nateimg.co.kr/news90///news.nateimg.co.kr/orgImg/at/2025/07/25/2025072501002466100147651.jpg\"/>"
      ],
      "text/plain": [
       "<IPython.core.display.Image object>"
      ]
     },
     "metadata": {},
     "output_type": "display_data"
    },
    {
     "name": "stdout",
     "output_type": "stream",
     "text": [
      "HDC현대산업개발, 2분기 영업익 803억원…전년 比 49% '상승'\n",
      "============>> 20\n",
      "https://news.nate.com/view/20250725n07979?mid=n0300\n",
      "https://thumbnews.nateimg.co.kr/news90///news.nateimg.co.kr/orgImg/ns/2025/07/25/NISI20240110_0001456451_web.jpg\n"
     ]
    },
    {
     "data": {
      "text/html": [
       "<img src=\"https://thumbnews.nateimg.co.kr/news90///news.nateimg.co.kr/orgImg/ns/2025/07/25/NISI20240110_0001456451_web.jpg\"/>"
      ],
      "text/plain": [
       "<IPython.core.display.Image object>"
      ]
     },
     "metadata": {},
     "output_type": "display_data"
    },
    {
     "name": "stdout",
     "output_type": "stream",
     "text": [
      "남부발전, 퇴직직원 전문경력인사 초빙활용지원사업 선정\n"
     ]
    }
   ],
   "source": [
    "import requests\n",
    "from bs4 import BeautifulSoup\n",
    "from urllib.parse import urljoin\n",
    "from IPython.display import Image, display\n",
    "\n",
    "section_dict = {'최신뉴스':'n0100','정치':'n0200','경제':'n0300','사회':'n0400',\\\n",
    "                '세계':'n0500','IT/과학':'n0600'}\n",
    "print(section_dict)\n",
    "\n",
    "def print_news(section_name):    \n",
    "    m_id = section_dict[section_name]\n",
    "\n",
    "    url = f'https://news.nate.com/recent?mid={m_id}'\n",
    "    print(url)\n",
    "\n",
    "    req_header = {\n",
    "        'user-agent': 'Mozilla/5.0 (Windows NT 10.0; Win64; x64) AppleWebKit/537.36 (KHTML, like Gecko) Chrome/104.0.0.0 Safari/537.36'\n",
    "    }\n",
    "\n",
    "    res = requests.get(url, headers=req_header)\n",
    "    print(type(res))\n",
    "    print(res.status_code)\n",
    "\n",
    "    if res.ok:\n",
    "        res.encoding = 'euc-kr'\n",
    "        html = res.text\n",
    "        soup = BeautifulSoup(html, 'html.parser')\n",
    "\n",
    "        print(f'======> {url} {section_name} 뉴스 <======')   \n",
    "\n",
    "        tags = soup.select(\"div.postListType.noListTitle div.mlt01\")\n",
    "        print(len(tags))\n",
    "\n",
    "        for idx,div_tag in enumerate(tags,1): \n",
    "            print(f'============>> {idx}')       \n",
    "            a_tag = div_tag.find('a')\n",
    "            a_join_url = urljoin(url,a_tag['href'])\n",
    "            print(a_join_url)\n",
    "\n",
    "            img_tag = div_tag.select_one('span.ib img')\n",
    "            if img_tag:\n",
    "                photo_url = urljoin(url,img_tag['src'])\n",
    "                print(photo_url)\n",
    "                display(Image(url=photo_url))\n",
    "\n",
    "            h2_tag = div_tag.select_one('span.tb h2.tit')\n",
    "            title = h2_tag.text\n",
    "            print(title)\n",
    "\n",
    "    else:\n",
    "        print(f'에러코드 = {res.status_code}')\n",
    "\n",
    "print_news('경제')"
   ]
  },
  {
   "cell_type": "markdown",
   "id": "a1094a64",
   "metadata": {},
   "source": [
    "### 2-2. 하나의 네이버 웹툰과 1개의 회차에 대한 Image 다운로드 하기 (필수)\n",
    "- 하나의 웹툰의 제목(title)과 회차번호(no),회차의URL(url) 을 입력으로 받는 함수를 선언합니다. \n",
    "   def download_one_episode(title,no,url):\n",
    "\n",
    "- 아래와 같이 호출합니다.\n",
    "\n",
    "  download_one_episode('일렉시드',341,'https://comic.naver.com/webtoon/detail?titleId=717481&no=341&week=wed')\n",
    "\n",
    "- img\\일렉시드\\341 디렉토리가 생성되며 , \n",
    "그 디렉토리 아래에 웹툰 image들이 다운로드 되도록 해주세요.\n"
   ]
  },
  {
   "cell_type": "code",
   "execution_count": null,
   "id": "baf67c41",
   "metadata": {},
   "outputs": [],
   "source": [
    "import requests\n",
    "from bs4 import BeautifulSoup\n",
    "import os\n",
    "\n",
    "def download_one_episode(title, no, url):\n",
    "    # 요청 헤더\n",
    "    req_header = {\n",
    "        'referer': url,\n",
    "        'user-agent': 'Mozilla/5.0 (Windows NT 10.0; Win64; x64) AppleWebKit/537.36 (KHTML, like Gecko) Chrome/104.0.0.0 Safari/537.36'\n",
    "    }\n",
    "\n",
    "    res = requests.get(url, headers=req_header)\n",
    "    if not res.ok:\n",
    "        print(f\"요청 실패: {res.status_code}\")\n",
    "        return\n",
    "\n",
    "    soup = BeautifulSoup(res.text, 'html.parser')\n",
    "\n",
    "    # 이미지 태그 선택 (IMAG01이 포함된 src)\n",
    "    img_tags = soup.select(\"img[src*='IMAG01']\")\n",
    "    if not img_tags:\n",
    "        print(\"이미지를 찾을 수 없습니다.\")\n",
    "        return\n",
    "\n",
    "    imgdir = 'img'\n",
    "    titledir = os.path.join(imgdir, title)\n",
    "    epdir = os.path.join(titledir, str(no))\n",
    "\n",
    "    if not os.path.isdir(imgdir):\n",
    "        os.mkdir(imgdir)\n",
    "\n",
    "    if not os.path.isdir(titledir):\n",
    "        os.mkdir(titledir)\n",
    "\n",
    "    if not os.path.isdir(epdir):\n",
    "        os.mkdir(epdir)\n",
    "\n",
    "\n",
    "    print(f\"{title} {no}화: 이미지 {len(img_tags)}개 다운로드 시작...\")\n",
    "\n",
    "    for idx, img_tag in enumerate(img_tags, start=1):\n",
    "        img_url = img_tag.get('src')\n",
    "        if not img_url:\n",
    "            continue\n",
    "\n",
    "        # 이미지 요청\n",
    "        img_res = requests.get(img_url, headers=req_header)\n",
    "        if not img_res.ok:\n",
    "            print(f\"⚠ 이미지 다운로드 실패: {img_url}\")\n",
    "            continue\n",
    "\n",
    "        # 저장 파일 이름: 0001.jpg, 0002.jpg, ..\n",
    "        ext = os.path.splitext(img_url)[1].split('?')[0] or '.jpg'\n",
    "        filename = f\"{idx:04d}{ext}\"\n",
    "        filepath = os.path.join(epdir, filename)\n",
    "\n",
    "        # 이미지 저장\n",
    "        with open(filepath, 'wb') as f:\n",
    "            f.write(img_res.content)\n",
    "            print(f\"저장 완료: {filepath} ({len(img_res.content):,} bytes)\")\n",
    "\n",
    "    print(f\"전체 저장 완료: {epdir}\")\n"
   ]
  },
  {
   "cell_type": "code",
   "execution_count": 14,
   "id": "01f6191e",
   "metadata": {},
   "outputs": [
    {
     "name": "stdout",
     "output_type": "stream",
     "text": [
      "일렉시드 341화: 이미지 88개 다운로드 시작...\n",
      "저장 완료: img\\일렉시드\\341\\0001.jpg (87,143 bytes)\n",
      "저장 완료: img\\일렉시드\\341\\0002.jpg (256,127 bytes)\n",
      "저장 완료: img\\일렉시드\\341\\0003.jpg (184,536 bytes)\n",
      "저장 완료: img\\일렉시드\\341\\0004.jpg (182,867 bytes)\n",
      "저장 완료: img\\일렉시드\\341\\0005.jpg (112,615 bytes)\n",
      "저장 완료: img\\일렉시드\\341\\0006.jpg (169,889 bytes)\n",
      "저장 완료: img\\일렉시드\\341\\0007.jpg (157,876 bytes)\n",
      "저장 완료: img\\일렉시드\\341\\0008.jpg (181,837 bytes)\n",
      "저장 완료: img\\일렉시드\\341\\0009.jpg (203,632 bytes)\n",
      "저장 완료: img\\일렉시드\\341\\0010.jpg (113,543 bytes)\n",
      "저장 완료: img\\일렉시드\\341\\0011.jpg (166,818 bytes)\n",
      "저장 완료: img\\일렉시드\\341\\0012.jpg (196,171 bytes)\n",
      "저장 완료: img\\일렉시드\\341\\0013.jpg (158,408 bytes)\n",
      "저장 완료: img\\일렉시드\\341\\0014.jpg (203,525 bytes)\n",
      "저장 완료: img\\일렉시드\\341\\0015.jpg (81,271 bytes)\n",
      "저장 완료: img\\일렉시드\\341\\0016.jpg (171,092 bytes)\n",
      "저장 완료: img\\일렉시드\\341\\0017.jpg (65,626 bytes)\n",
      "저장 완료: img\\일렉시드\\341\\0018.jpg (135,215 bytes)\n",
      "저장 완료: img\\일렉시드\\341\\0019.jpg (96,367 bytes)\n",
      "저장 완료: img\\일렉시드\\341\\0020.jpg (139,925 bytes)\n",
      "저장 완료: img\\일렉시드\\341\\0021.jpg (191,828 bytes)\n",
      "저장 완료: img\\일렉시드\\341\\0022.jpg (211,389 bytes)\n",
      "저장 완료: img\\일렉시드\\341\\0023.jpg (174,099 bytes)\n",
      "저장 완료: img\\일렉시드\\341\\0024.jpg (187,978 bytes)\n",
      "저장 완료: img\\일렉시드\\341\\0025.jpg (185,536 bytes)\n",
      "저장 완료: img\\일렉시드\\341\\0026.jpg (286,246 bytes)\n",
      "저장 완료: img\\일렉시드\\341\\0027.jpg (238,473 bytes)\n",
      "저장 완료: img\\일렉시드\\341\\0028.jpg (148,309 bytes)\n",
      "저장 완료: img\\일렉시드\\341\\0029.jpg (245,722 bytes)\n",
      "저장 완료: img\\일렉시드\\341\\0030.jpg (232,985 bytes)\n",
      "저장 완료: img\\일렉시드\\341\\0031.jpg (178,547 bytes)\n",
      "저장 완료: img\\일렉시드\\341\\0032.jpg (176,348 bytes)\n",
      "저장 완료: img\\일렉시드\\341\\0033.jpg (196,741 bytes)\n",
      "저장 완료: img\\일렉시드\\341\\0034.jpg (232,565 bytes)\n",
      "저장 완료: img\\일렉시드\\341\\0035.jpg (214,587 bytes)\n",
      "저장 완료: img\\일렉시드\\341\\0036.jpg (137,502 bytes)\n",
      "저장 완료: img\\일렉시드\\341\\0037.jpg (153,089 bytes)\n",
      "저장 완료: img\\일렉시드\\341\\0038.jpg (250,210 bytes)\n",
      "저장 완료: img\\일렉시드\\341\\0039.jpg (216,059 bytes)\n",
      "저장 완료: img\\일렉시드\\341\\0040.jpg (203,977 bytes)\n",
      "저장 완료: img\\일렉시드\\341\\0041.jpg (170,488 bytes)\n",
      "저장 완료: img\\일렉시드\\341\\0042.jpg (150,868 bytes)\n",
      "저장 완료: img\\일렉시드\\341\\0043.jpg (183,488 bytes)\n",
      "저장 완료: img\\일렉시드\\341\\0044.jpg (205,269 bytes)\n",
      "저장 완료: img\\일렉시드\\341\\0045.jpg (172,439 bytes)\n",
      "저장 완료: img\\일렉시드\\341\\0046.jpg (179,258 bytes)\n",
      "저장 완료: img\\일렉시드\\341\\0047.jpg (205,046 bytes)\n",
      "저장 완료: img\\일렉시드\\341\\0048.jpg (196,106 bytes)\n",
      "저장 완료: img\\일렉시드\\341\\0049.jpg (175,273 bytes)\n",
      "저장 완료: img\\일렉시드\\341\\0050.jpg (320,751 bytes)\n",
      "저장 완료: img\\일렉시드\\341\\0051.jpg (240,744 bytes)\n",
      "저장 완료: img\\일렉시드\\341\\0052.jpg (158,821 bytes)\n",
      "저장 완료: img\\일렉시드\\341\\0053.jpg (190,448 bytes)\n",
      "저장 완료: img\\일렉시드\\341\\0054.jpg (156,224 bytes)\n",
      "저장 완료: img\\일렉시드\\341\\0055.jpg (191,149 bytes)\n",
      "저장 완료: img\\일렉시드\\341\\0056.jpg (137,781 bytes)\n",
      "저장 완료: img\\일렉시드\\341\\0057.jpg (174,969 bytes)\n",
      "저장 완료: img\\일렉시드\\341\\0058.jpg (169,813 bytes)\n",
      "저장 완료: img\\일렉시드\\341\\0059.jpg (183,086 bytes)\n",
      "저장 완료: img\\일렉시드\\341\\0060.jpg (191,297 bytes)\n",
      "저장 완료: img\\일렉시드\\341\\0061.jpg (201,884 bytes)\n",
      "저장 완료: img\\일렉시드\\341\\0062.jpg (186,718 bytes)\n",
      "저장 완료: img\\일렉시드\\341\\0063.jpg (115,304 bytes)\n",
      "저장 완료: img\\일렉시드\\341\\0064.jpg (239,910 bytes)\n",
      "저장 완료: img\\일렉시드\\341\\0065.jpg (160,774 bytes)\n",
      "저장 완료: img\\일렉시드\\341\\0066.jpg (188,427 bytes)\n",
      "저장 완료: img\\일렉시드\\341\\0067.jpg (196,378 bytes)\n",
      "저장 완료: img\\일렉시드\\341\\0068.jpg (195,161 bytes)\n",
      "저장 완료: img\\일렉시드\\341\\0069.jpg (207,700 bytes)\n",
      "저장 완료: img\\일렉시드\\341\\0070.jpg (191,109 bytes)\n",
      "저장 완료: img\\일렉시드\\341\\0071.jpg (135,448 bytes)\n",
      "저장 완료: img\\일렉시드\\341\\0072.jpg (254,244 bytes)\n",
      "저장 완료: img\\일렉시드\\341\\0073.jpg (190,447 bytes)\n",
      "저장 완료: img\\일렉시드\\341\\0074.jpg (140,545 bytes)\n",
      "저장 완료: img\\일렉시드\\341\\0075.jpg (90,130 bytes)\n",
      "저장 완료: img\\일렉시드\\341\\0076.jpg (194,086 bytes)\n",
      "저장 완료: img\\일렉시드\\341\\0077.jpg (189,616 bytes)\n",
      "저장 완료: img\\일렉시드\\341\\0078.jpg (244,264 bytes)\n",
      "저장 완료: img\\일렉시드\\341\\0079.jpg (226,750 bytes)\n",
      "저장 완료: img\\일렉시드\\341\\0080.jpg (73,608 bytes)\n",
      "저장 완료: img\\일렉시드\\341\\0081.jpg (175,437 bytes)\n",
      "저장 완료: img\\일렉시드\\341\\0082.jpg (141,961 bytes)\n",
      "저장 완료: img\\일렉시드\\341\\0083.jpg (145,494 bytes)\n",
      "저장 완료: img\\일렉시드\\341\\0084.jpg (121,081 bytes)\n",
      "저장 완료: img\\일렉시드\\341\\0085.jpg (148,191 bytes)\n",
      "저장 완료: img\\일렉시드\\341\\0086.jpg (186,055 bytes)\n",
      "저장 완료: img\\일렉시드\\341\\0087.jpg (170,532 bytes)\n",
      "저장 완료: img\\일렉시드\\341\\0088.jpg (99,449 bytes)\n",
      "전체 저장 완료: img\\일렉시드\\341\n"
     ]
    }
   ],
   "source": [
    "download_one_episode('일렉시드', 341, 'https://comic.naver.com/webtoon/detail?titleId=717481&no=341&week=wed')\n"
   ]
  }
 ],
 "metadata": {
  "kernelspec": {
   "display_name": "base",
   "language": "python",
   "name": "python3"
  },
  "language_info": {
   "codemirror_mode": {
    "name": "ipython",
    "version": 3
   },
   "file_extension": ".py",
   "mimetype": "text/x-python",
   "name": "python",
   "nbconvert_exporter": "python",
   "pygments_lexer": "ipython3",
   "version": "3.12.7"
  }
 },
 "nbformat": 4,
 "nbformat_minor": 5
}
