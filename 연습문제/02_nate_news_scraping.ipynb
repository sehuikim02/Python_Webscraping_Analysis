{
 "cells": [
  {
   "cell_type": "markdown",
   "id": "e7931a02",
   "metadata": {},
   "source": [
    "### 2-1. Nate 뉴스기사 제목 스크래핑하기 (필수)\n",
    "https://news.nate.com/recent?mid=n0100\n",
    "\n",
    "최신뉴스, 정치 , 경제, 사회, 세계, IT/과학 \n",
    "6개의 섹션의 뉴스를 출력하는 함수를 생성하여 스크래핑 하기\n",
    "\n",
    "Image, 기사제목, 기사링크\n",
    "\n",
    "뉴스기사의 Image를 출력 하세요 \n",
    "1) Image의 절대경로와 상대 경로를 합치려면 urljoin 함수를 사용하세요.\n",
    "    from urllib.parse import urljoin\n",
    "\n",
    "2) Image 출력은 Image 클래스와 display 함수를 사용하세요.\n",
    "    from IPython.display import Image, display\n",
    "\n",
    "3) img 엘리먼트의 존재 여부를 체크하신 후에 src 속성의 이미지를 경로를 추출하기\n",
    "  => Image 가 없는 뉴스도 있기 때문에 "
   ]
  },
  {
   "cell_type": "code",
   "execution_count": 1,
   "id": "84eceeca",
   "metadata": {},
   "outputs": [
    {
     "name": "stdout",
     "output_type": "stream",
     "text": [
      "=============== 연예 뉴스 ===============\n",
      "제목: HD현대인프라, 2분기 영업익 1058억원…전년比 29.8%↑\n",
      "링크: https://news.nate.com/view/20250723n29709?mid=n0000\n"
     ]
    },
    {
     "data": {
      "image/jpeg": "[encoded data removed]",
      "text/plain": [
       "<IPython.core.display.Image object>"
      ]
     },
     "metadata": {},
     "output_type": "display_data"
    },
    {
     "name": "stdout",
     "output_type": "stream",
     "text": [
      "------------------------------------------------------------\n",
      "제목: 삼성바이오로직스, 상반기 매출 첫 2조 돌파…CDMO '초격차' 확대\n",
      "링크: https://news.nate.com/view/20250723n29708?mid=n0000\n"
     ]
    },
    {
     "data": {
      "image/jpeg": "[encoded data removed]",
      "text/plain": [
       "<IPython.core.display.Image object>"
      ]
     },
     "metadata": {},
     "output_type": "display_data"
    },
    {
     "name": "stdout",
     "output_type": "stream",
     "text": [
      "------------------------------------------------------------\n",
      "제목: 경상국립대, 고문헌도서관 소장자료 10만 점 돌파\n",
      "링크: https://news.nate.com/view/20250723n29707?mid=n0000\n"
     ]
    },
    {
     "data": {
      "image/jpeg": "[encoded data removed]",
      "text/plain": [
       "<IPython.core.display.Image object>"
      ]
     },
     "metadata": {},
     "output_type": "display_data"
    },
    {
     "name": "stdout",
     "output_type": "stream",
     "text": [
      "------------------------------------------------------------\n"
     ]
    }
   ],
   "source": [
    "import requests\n",
    "from bs4 import BeautifulSoup\n",
    "from urllib.parse import urljoin\n",
    "from IPython.display import Image, display\n",
    "\n",
    "# 섹션별 URL 딕셔너리\n",
    "section_dict = {\n",
    "    '최신뉴스': 'n0100','정치': 'n0101', '경제': 'n0102', '사회': 'n0103', \n",
    "    '세계': 'n0104', 'IT/과학': 'n0105'\n",
    "}\n",
    "\n",
    "def scrape_politics_news(section_name):\n",
    "    section_one = section_dict.get(section_name)\n",
    "    url = f'https://news.nate.com/recent?mid={section_one}' \n",
    "    res = requests.get(url)\n",
    "    res.raise_for_status()\n",
    "    soup = BeautifulSoup(res.text, 'html.parser')\n",
    "\n",
    "    print(f\"=============== {section_name} 뉴스 ===============\")\n",
    "\n",
    "    # 뉴스 각각의 <a> 태그가 들어있는 div들을 선택\n",
    "    news_anchors = soup.select('div.mduSubjectList a.lt1')\n",
    "\n",
    "    for a_tag in news_anchors[:3]:\n",
    "        # 뉴스 링크\n",
    "        link = a_tag.get('href')\n",
    "        full_link = urljoin(url, link)\n",
    "\n",
    "        # 제목은 a 태그 안의 h2.tit\n",
    "        title_tag = a_tag.find('h2', class_='tit')\n",
    "        title = title_tag.get_text(strip=True) if title_tag else \"제목 없음\"\n",
    "\n",
    "        print(f\"제목: {title}\")\n",
    "        print(f\"링크: {full_link}\")\n",
    "\n",
    "        # 이미지가 있는 경우가 있으면 img 태그 찾아보기\n",
    "        img_tag = a_tag.find('img')\n",
    "        if img_tag and img_tag.has_attr('src'):\n",
    "            img_src = img_tag['src']\n",
    "            full_img_url = urljoin(url, img_src)\n",
    "            display(Image(full_img_url))\n",
    "        else:\n",
    "            print(\"이미지 없음\")\n",
    "\n",
    "        print('-' * 60)\n",
    "\n",
    "# 실행\n",
    "scrape_politics_news('연예')\n"
   ]
  },
  {
   "cell_type": "markdown",
   "id": "a1094a64",
   "metadata": {},
   "source": [
    "### 2-2. 하나의 네이버 웹툰과 1개의 회차에 대한 Image 다운로드 하기 (필수)\n",
    "- 하나의 웹툰의 제목(title)과 회차번호(no),회차의URL(url) 을 입력으로 받는 함수를 선언합니다. \n",
    "   def download_one_episode(title,no,url):\n",
    "\n",
    "- 아래와 같이 호출합니다.\n",
    "\n",
    "  download_one_episode('일렉시드',341,'https://comic.naver.com/webtoon/detail?titleId=717481&no=341&week=wed')\n",
    "\n",
    "- img\\일렉시드\\341 디렉토리가 생성되며 , \n",
    "그 디렉토리 아래에 웹툰 image들이 다운로드 되도록 해주세요.\n"
   ]
  },
  {
   "cell_type": "code",
   "execution_count": null,
   "id": "baf67c41",
   "metadata": {},
   "outputs": [],
   "source": []
  }
 ],
 "metadata": {
  "kernelspec": {
   "display_name": "base",
   "language": "python",
   "name": "python3"
  },
  "language_info": {
   "codemirror_mode": {
    "name": "ipython",
    "version": 3
   },
   "file_extension": ".py",
   "mimetype": "text/x-python",
   "name": "python",
   "nbconvert_exporter": "python",
   "pygments_lexer": "ipython3",
   "version": "3.12.7"
  }
 },
 "nbformat": 4,
 "nbformat_minor": 5
}
