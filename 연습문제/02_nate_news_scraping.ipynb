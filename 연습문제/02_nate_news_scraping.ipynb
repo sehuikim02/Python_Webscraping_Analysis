{
 "cells": [
  {
   "cell_type": "markdown",
   "id": "e7931a02",
   "metadata": {},
   "source": [
    "### 2-1. Nate 뉴스기사 제목 스크래핑하기 (필수)\n",
    "https://news.nate.com/recent?mid=n0100\n",
    "\n",
    "최신뉴스, 정치 , 경제, 사회, 세계, IT/과학 \n",
    "6개의 섹션의 뉴스를 출력하는 함수를 생성하여 스크래핑 하기\n",
    "\n",
    "Image, 기사제목, 기사링크\n",
    "\n",
    "뉴스기사의 Image를 출력 하세요 \n",
    "1) Image의 절대경로와 상대 경로를 합치려면 urljoin 함수를 사용하세요.\n",
    "    from urllib.parse import urljoin\n",
    "\n",
    "2) Image 출력은 Image 클래스와 display 함수를 사용하세요.\n",
    "    from IPython.display import Image, display\n",
    "\n",
    "3) img 엘리먼트의 존재 여부를 체크하신 후에 src 속성의 이미지를 경로를 추출하기\n",
    "  => Image 가 없는 뉴스도 있기 때문에 "
   ]
  },
  {
   "cell_type": "code",
   "execution_count": 2,
   "id": "84eceeca",
   "metadata": {},
   "outputs": [
    {
     "name": "stdout",
     "output_type": "stream",
     "text": [
      "https://news.nate.com/recent?mid=n0100\n",
      "<class 'requests.models.Response'>\n",
      "200\n",
      "20\n",
      "============>> 1\n",
      "https://thumbnews.nateimg.co.kr/news90///news.nateimg.co.kr/orgImg/fr/2025/07/25/art_697619_1753404383.jpg\n",
      "1. //thumbnews.nateimg.co.kr/news90///news.nateimg.co.kr/orgImg/fr/2025/07/25/art_697619_1753404383.jpg\n",
      "2. https://thumbnews.nateimg.co.kr/news90///news.nateimg.co.kr/orgImg/fr/2025/07/25/art_697619_1753404383.jpg\n"
     ]
    },
    {
     "data": {
      "text/html": [
       "<img src=\"https://thumbnews.nateimg.co.kr/news90///news.nateimg.co.kr/orgImg/fr/2025/07/25/art_697619_1753404383.jpg\"/>"
      ],
      "text/plain": [
       "<IPython.core.display.Image object>"
      ]
     },
     "metadata": {},
     "output_type": "display_data"
    },
    {
     "name": "stdout",
     "output_type": "stream",
     "text": [
      "[잇속] KT·LGU+·네이버 등\n",
      "============>> 2\n",
      "https://thumbnews.nateimg.co.kr/news90///news.nateimg.co.kr/orgImg/fr/2025/07/25/art_697618_1753404196.jpg\n",
      "1. //thumbnews.nateimg.co.kr/news90///news.nateimg.co.kr/orgImg/fr/2025/07/25/art_697618_1753404196.jpg\n",
      "2. https://thumbnews.nateimg.co.kr/news90///news.nateimg.co.kr/orgImg/fr/2025/07/25/art_697618_1753404196.jpg\n"
     ]
    },
    {
     "data": {
      "text/html": [
       "<img src=\"https://thumbnews.nateimg.co.kr/news90///news.nateimg.co.kr/orgImg/fr/2025/07/25/art_697618_1753404196.jpg\"/>"
      ],
      "text/plain": [
       "<IPython.core.display.Image object>"
      ]
     },
     "metadata": {},
     "output_type": "display_data"
    },
    {
     "name": "stdout",
     "output_type": "stream",
     "text": [
      "[카드] '전주 완산구 첫선' 라온프라이빗 퍼스티브, 견본주택 오픈\n",
      "============>> 3\n",
      "https://thumbnews.nateimg.co.kr/news90///news.nateimg.co.kr/orgImg/fr/2025/07/25/art_697617_1753404217.png\n",
      "1. //thumbnews.nateimg.co.kr/news90///news.nateimg.co.kr/orgImg/fr/2025/07/25/art_697617_1753404217.png\n",
      "2. https://thumbnews.nateimg.co.kr/news90///news.nateimg.co.kr/orgImg/fr/2025/07/25/art_697617_1753404217.png\n"
     ]
    },
    {
     "data": {
      "text/html": [
       "<img src=\"https://thumbnews.nateimg.co.kr/news90///news.nateimg.co.kr/orgImg/fr/2025/07/25/art_697617_1753404217.png\"/>"
      ],
      "text/plain": [
       "<IPython.core.display.Image object>"
      ]
     },
     "metadata": {},
     "output_type": "display_data"
    },
    {
     "name": "stdout",
     "output_type": "stream",
     "text": [
      "[카드] 마사회, 농촌체험휴양마을 말테마 사업 개시\n",
      "============>> 4\n",
      "https://thumbnews.nateimg.co.kr/news90///news.nateimg.co.kr/orgImg/in/2025/07/25/b6df6187ea3a1d.jpg\n",
      "1. //thumbnews.nateimg.co.kr/news90///news.nateimg.co.kr/orgImg/in/2025/07/25/b6df6187ea3a1d.jpg\n",
      "2. https://thumbnews.nateimg.co.kr/news90///news.nateimg.co.kr/orgImg/in/2025/07/25/b6df6187ea3a1d.jpg\n"
     ]
    },
    {
     "data": {
      "text/html": [
       "<img src=\"https://thumbnews.nateimg.co.kr/news90///news.nateimg.co.kr/orgImg/in/2025/07/25/b6df6187ea3a1d.jpg\"/>"
      ],
      "text/plain": [
       "<IPython.core.display.Image object>"
      ]
     },
     "metadata": {},
     "output_type": "display_data"
    },
    {
     "name": "stdout",
     "output_type": "stream",
     "text": [
      "KGC인삼공사, 亞건강식품 포럼서 홍삼 우수성 알려\n",
      "============>> 5\n",
      "https://thumbnews.nateimg.co.kr/news90///news.nateimg.co.kr/orgImg/yt/2025/07/25/PYH2025072502630001300_P2.jpg\n",
      "1. //thumbnews.nateimg.co.kr/news90///news.nateimg.co.kr/orgImg/yt/2025/07/25/PYH2025072502630001300_P2.jpg\n",
      "2. https://thumbnews.nateimg.co.kr/news90///news.nateimg.co.kr/orgImg/yt/2025/07/25/PYH2025072502630001300_P2.jpg\n"
     ]
    },
    {
     "data": {
      "text/html": [
       "<img src=\"https://thumbnews.nateimg.co.kr/news90///news.nateimg.co.kr/orgImg/yt/2025/07/25/PYH2025072502630001300_P2.jpg\"/>"
      ],
      "text/plain": [
       "<IPython.core.display.Image object>"
      ]
     },
     "metadata": {},
     "output_type": "display_data"
    },
    {
     "name": "stdout",
     "output_type": "stream",
     "text": [
      "김건희 특검 압수수색 비판한 송언석 원내대표\n",
      "============>> 6\n",
      "https://thumbnews.nateimg.co.kr/news90///news.nateimg.co.kr/orgImg/yt/2025/07/25/AKR20250725049000007_01_i.jpg\n",
      "1. //thumbnews.nateimg.co.kr/news90///news.nateimg.co.kr/orgImg/yt/2025/07/25/AKR20250725049000007_01_i.jpg\n",
      "2. https://thumbnews.nateimg.co.kr/news90///news.nateimg.co.kr/orgImg/yt/2025/07/25/AKR20250725049000007_01_i.jpg\n"
     ]
    },
    {
     "data": {
      "text/html": [
       "<img src=\"https://thumbnews.nateimg.co.kr/news90///news.nateimg.co.kr/orgImg/yt/2025/07/25/AKR20250725049000007_01_i.jpg\"/>"
      ],
      "text/plain": [
       "<IPython.core.display.Image object>"
      ]
     },
     "metadata": {},
     "output_type": "display_data"
    },
    {
     "name": "stdout",
     "output_type": "stream",
     "text": [
      "K리그1 김천, 신병 선수 7명 '입대 영입' 완료…내년 12월 제대\n",
      "============>> 7\n",
      "https://thumbnews.nateimg.co.kr/news90///news.nateimg.co.kr/orgImg/na/2025/07/25/7310659_high.jpg\n",
      "1. //thumbnews.nateimg.co.kr/news90///news.nateimg.co.kr/orgImg/na/2025/07/25/7310659_high.jpg\n",
      "2. https://thumbnews.nateimg.co.kr/news90///news.nateimg.co.kr/orgImg/na/2025/07/25/7310659_high.jpg\n"
     ]
    },
    {
     "data": {
      "text/html": [
       "<img src=\"https://thumbnews.nateimg.co.kr/news90///news.nateimg.co.kr/orgImg/na/2025/07/25/7310659_high.jpg\"/>"
      ],
      "text/plain": [
       "<IPython.core.display.Image object>"
      ]
     },
     "metadata": {},
     "output_type": "display_data"
    },
    {
     "name": "stdout",
     "output_type": "stream",
     "text": [
      "권익위, 사업장 실수로 불법체류 외국인 근로자 구제길 열어\n",
      "============>> 8\n",
      "https://thumbnews.nateimg.co.kr/news90///news.nateimg.co.kr/orgImg/mk/2025/07/25/news-p.v1.20250725.453c32f9787c42d29c03ee21504d40b3_P1.png\n",
      "1. //thumbnews.nateimg.co.kr/news90///news.nateimg.co.kr/orgImg/mk/2025/07/25/news-p.v1.20250725.453c32f9787c42d29c03ee21504d40b3_P1.png\n",
      "2. https://thumbnews.nateimg.co.kr/news90///news.nateimg.co.kr/orgImg/mk/2025/07/25/news-p.v1.20250725.453c32f9787c42d29c03ee21504d40b3_P1.png\n"
     ]
    },
    {
     "data": {
      "text/html": [
       "<img src=\"https://thumbnews.nateimg.co.kr/news90///news.nateimg.co.kr/orgImg/mk/2025/07/25/news-p.v1.20250725.453c32f9787c42d29c03ee21504d40b3_P1.png\"/>"
      ],
      "text/plain": [
       "<IPython.core.display.Image object>"
      ]
     },
     "metadata": {},
     "output_type": "display_data"
    },
    {
     "name": "stdout",
     "output_type": "stream",
     "text": [
      "U.S. cancels high-level tariff talks with Korea\n",
      "============>> 9\n",
      "https://thumbnews.nateimg.co.kr/news90///news.nateimg.co.kr/orgImg/ni/2025/07/25/2507250952359250.jpg\n",
      "1. //thumbnews.nateimg.co.kr/news90///news.nateimg.co.kr/orgImg/ni/2025/07/25/2507250952359250.jpg\n",
      "2. https://thumbnews.nateimg.co.kr/news90///news.nateimg.co.kr/orgImg/ni/2025/07/25/2507250952359250.jpg\n"
     ]
    },
    {
     "data": {
      "text/html": [
       "<img src=\"https://thumbnews.nateimg.co.kr/news90///news.nateimg.co.kr/orgImg/ni/2025/07/25/2507250952359250.jpg\"/>"
      ],
      "text/plain": [
       "<IPython.core.display.Image object>"
      ]
     },
     "metadata": {},
     "output_type": "display_data"
    },
    {
     "name": "stdout",
     "output_type": "stream",
     "text": [
      "한국수입차협회, '창립 30주년 기념' 사진 공모전 수상작 발표\n",
      "============>> 10\n",
      "https://thumbnews.nateimg.co.kr/news90///news.nateimg.co.kr/orgImg/yt/2025/07/25/AKR20250725046100003_01_i.jpg\n",
      "1. //thumbnews.nateimg.co.kr/news90///news.nateimg.co.kr/orgImg/yt/2025/07/25/AKR20250725046100003_01_i.jpg\n",
      "2. https://thumbnews.nateimg.co.kr/news90///news.nateimg.co.kr/orgImg/yt/2025/07/25/AKR20250725046100003_01_i.jpg\n"
     ]
    },
    {
     "data": {
      "text/html": [
       "<img src=\"https://thumbnews.nateimg.co.kr/news90///news.nateimg.co.kr/orgImg/yt/2025/07/25/AKR20250725046100003_01_i.jpg\"/>"
      ],
      "text/plain": [
       "<IPython.core.display.Image object>"
      ]
     },
     "metadata": {},
     "output_type": "display_data"
    },
    {
     "name": "stdout",
     "output_type": "stream",
     "text": [
      "한미반도체, '하이브리드 본더' 개발에 1천억원 투자\n",
      "============>> 11\n",
      "https://thumbnews.nateimg.co.kr/news90///news.nateimg.co.kr/orgImg/yt/2025/07/25/PYH2025072502620001300_P2.jpg\n",
      "1. //thumbnews.nateimg.co.kr/news90///news.nateimg.co.kr/orgImg/yt/2025/07/25/PYH2025072502620001300_P2.jpg\n",
      "2. https://thumbnews.nateimg.co.kr/news90///news.nateimg.co.kr/orgImg/yt/2025/07/25/PYH2025072502620001300_P2.jpg\n"
     ]
    },
    {
     "data": {
      "text/html": [
       "<img src=\"https://thumbnews.nateimg.co.kr/news90///news.nateimg.co.kr/orgImg/yt/2025/07/25/PYH2025072502620001300_P2.jpg\"/>"
      ],
      "text/plain": [
       "<IPython.core.display.Image object>"
      ]
     },
     "metadata": {},
     "output_type": "display_data"
    },
    {
     "name": "stdout",
     "output_type": "stream",
     "text": [
      "김건희 특검 압수수색 비판한 송언석 원내대표\n",
      "============>> 12\n",
      "https://thumbnews.nateimg.co.kr/news90///news.nateimg.co.kr/orgImg/wh/2025/07/25/1248605_1447419_5523.jpg\n",
      "1. //thumbnews.nateimg.co.kr/news90///news.nateimg.co.kr/orgImg/wh/2025/07/25/1248605_1447419_5523.jpg\n",
      "2. https://thumbnews.nateimg.co.kr/news90///news.nateimg.co.kr/orgImg/wh/2025/07/25/1248605_1447419_5523.jpg\n"
     ]
    },
    {
     "data": {
      "text/html": [
       "<img src=\"https://thumbnews.nateimg.co.kr/news90///news.nateimg.co.kr/orgImg/wh/2025/07/25/1248605_1447419_5523.jpg\"/>"
      ],
      "text/plain": [
       "<IPython.core.display.Image object>"
      ]
     },
     "metadata": {},
     "output_type": "display_data"
    },
    {
     "name": "stdout",
     "output_type": "stream",
     "text": [
      "KB금융, 글로벌 ESG 투자지수 'FTSE4Good' 15년 연속 편입\n",
      "============>> 13\n",
      "https://thumbnews.nateimg.co.kr/news90///news.nateimg.co.kr/orgImg/in/2025/07/25/a7f1d4db254aca.jpg\n",
      "1. //thumbnews.nateimg.co.kr/news90///news.nateimg.co.kr/orgImg/in/2025/07/25/a7f1d4db254aca.jpg\n",
      "2. https://thumbnews.nateimg.co.kr/news90///news.nateimg.co.kr/orgImg/in/2025/07/25/a7f1d4db254aca.jpg\n"
     ]
    },
    {
     "data": {
      "text/html": [
       "<img src=\"https://thumbnews.nateimg.co.kr/news90///news.nateimg.co.kr/orgImg/in/2025/07/25/a7f1d4db254aca.jpg\"/>"
      ],
      "text/plain": [
       "<IPython.core.display.Image object>"
      ]
     },
     "metadata": {},
     "output_type": "display_data"
    },
    {
     "name": "stdout",
     "output_type": "stream",
     "text": [
      "수해지역 찾은 KCA 노사, 농가 비닐하우스 복구 지원\n",
      "============>> 14\n",
      "https://thumbnews.nateimg.co.kr/news90///news.nateimg.co.kr/orgImg/yt/2025/07/25/PYH2025072502690001301_P2.jpg\n",
      "1. //thumbnews.nateimg.co.kr/news90///news.nateimg.co.kr/orgImg/yt/2025/07/25/PYH2025072502690001301_P2.jpg\n",
      "2. https://thumbnews.nateimg.co.kr/news90///news.nateimg.co.kr/orgImg/yt/2025/07/25/PYH2025072502690001301_P2.jpg\n"
     ]
    },
    {
     "data": {
      "text/html": [
       "<img src=\"https://thumbnews.nateimg.co.kr/news90///news.nateimg.co.kr/orgImg/yt/2025/07/25/PYH2025072502690001301_P2.jpg\"/>"
      ],
      "text/plain": [
       "<IPython.core.display.Image object>"
      ]
     },
     "metadata": {},
     "output_type": "display_data"
    },
    {
     "name": "stdout",
     "output_type": "stream",
     "text": [
      "허태근 전 국방정책실장, 특검 조사 출석\n",
      "============>> 15\n",
      "https://thumbnews.nateimg.co.kr/news90///news.nateimg.co.kr/orgImg/mh/2025/07/25/news-p.v1.20250725.f502c34895804380ba54472b96df088e_P1.jpg\n",
      "1. //thumbnews.nateimg.co.kr/news90///news.nateimg.co.kr/orgImg/mh/2025/07/25/news-p.v1.20250725.f502c34895804380ba54472b96df088e_P1.jpg\n",
      "2. https://thumbnews.nateimg.co.kr/news90///news.nateimg.co.kr/orgImg/mh/2025/07/25/news-p.v1.20250725.f502c34895804380ba54472b96df088e_P1.jpg\n"
     ]
    },
    {
     "data": {
      "text/html": [
       "<img src=\"https://thumbnews.nateimg.co.kr/news90///news.nateimg.co.kr/orgImg/mh/2025/07/25/news-p.v1.20250725.f502c34895804380ba54472b96df088e_P1.jpg\"/>"
      ],
      "text/plain": [
       "<IPython.core.display.Image object>"
      ]
     },
     "metadata": {},
     "output_type": "display_data"
    },
    {
     "name": "stdout",
     "output_type": "stream",
     "text": [
      "폐광지역 삼척 '도계 공공임대주택 건립사업' 30일 주민설명회\n",
      "============>> 16\n",
      "https://thumbnews.nateimg.co.kr/news90///news.nateimg.co.kr/orgImg/yt/2025/07/25/PYH2025072502610001300_P2.jpg\n",
      "1. //thumbnews.nateimg.co.kr/news90///news.nateimg.co.kr/orgImg/yt/2025/07/25/PYH2025072502610001300_P2.jpg\n",
      "2. https://thumbnews.nateimg.co.kr/news90///news.nateimg.co.kr/orgImg/yt/2025/07/25/PYH2025072502610001300_P2.jpg\n"
     ]
    },
    {
     "data": {
      "text/html": [
       "<img src=\"https://thumbnews.nateimg.co.kr/news90///news.nateimg.co.kr/orgImg/yt/2025/07/25/PYH2025072502610001300_P2.jpg\"/>"
      ],
      "text/plain": [
       "<IPython.core.display.Image object>"
      ]
     },
     "metadata": {},
     "output_type": "display_data"
    },
    {
     "name": "stdout",
     "output_type": "stream",
     "text": [
      "김선교 의원실 압수수색 비판하는 송언석 원내대표\n",
      "============>> 17\n",
      "https://thumbnews.nateimg.co.kr/news90///news.nateimg.co.kr/orgImg/mk/2025/07/25/news-p.v1.20250725.4a035ca74fa141c59d40194737b8196f_P1.png\n",
      "1. //thumbnews.nateimg.co.kr/news90///news.nateimg.co.kr/orgImg/mk/2025/07/25/news-p.v1.20250725.4a035ca74fa141c59d40194737b8196f_P1.png\n",
      "2. https://thumbnews.nateimg.co.kr/news90///news.nateimg.co.kr/orgImg/mk/2025/07/25/news-p.v1.20250725.4a035ca74fa141c59d40194737b8196f_P1.png\n"
     ]
    },
    {
     "data": {
      "text/html": [
       "<img src=\"https://thumbnews.nateimg.co.kr/news90///news.nateimg.co.kr/orgImg/mk/2025/07/25/news-p.v1.20250725.4a035ca74fa141c59d40194737b8196f_P1.png\"/>"
      ],
      "text/plain": [
       "<IPython.core.display.Image object>"
      ]
     },
     "metadata": {},
     "output_type": "display_data"
    },
    {
     "name": "stdout",
     "output_type": "stream",
     "text": [
      "LG Chem opts to buy power without KEPCO\n",
      "============>> 18\n",
      "https://thumbnews.nateimg.co.kr/news90///news.nateimg.co.kr/orgImg/yt/2025/07/25/PYH2025072502600001300_P2.jpg\n",
      "1. //thumbnews.nateimg.co.kr/news90///news.nateimg.co.kr/orgImg/yt/2025/07/25/PYH2025072502600001300_P2.jpg\n",
      "2. https://thumbnews.nateimg.co.kr/news90///news.nateimg.co.kr/orgImg/yt/2025/07/25/PYH2025072502600001300_P2.jpg\n"
     ]
    },
    {
     "data": {
      "text/html": [
       "<img src=\"https://thumbnews.nateimg.co.kr/news90///news.nateimg.co.kr/orgImg/yt/2025/07/25/PYH2025072502600001300_P2.jpg\"/>"
      ],
      "text/plain": [
       "<IPython.core.display.Image object>"
      ]
     },
     "metadata": {},
     "output_type": "display_data"
    },
    {
     "name": "stdout",
     "output_type": "stream",
     "text": [
      "김건희 특검 압수수색 비판한 송언석 원내대표\n",
      "============>> 19\n",
      "https://thumbnews.nateimg.co.kr/news90///news.nateimg.co.kr/orgImg/ni/2025/07/25/2507250946229960.jpg\n",
      "1. //thumbnews.nateimg.co.kr/news90///news.nateimg.co.kr/orgImg/ni/2025/07/25/2507250946229960.jpg\n",
      "2. https://thumbnews.nateimg.co.kr/news90///news.nateimg.co.kr/orgImg/ni/2025/07/25/2507250946229960.jpg\n"
     ]
    },
    {
     "data": {
      "text/html": [
       "<img src=\"https://thumbnews.nateimg.co.kr/news90///news.nateimg.co.kr/orgImg/ni/2025/07/25/2507250946229960.jpg\"/>"
      ],
      "text/plain": [
       "<IPython.core.display.Image object>"
      ]
     },
     "metadata": {},
     "output_type": "display_data"
    },
    {
     "name": "stdout",
     "output_type": "stream",
     "text": [
      "동아제약, 스페인산 올리브오일 '올리비바 피쿠알' 출시\n",
      "============>> 20\n",
      "https://thumbnews.nateimg.co.kr/news90///news.nateimg.co.kr/orgImg/sv/2025/07/25/202085836_700.jpg\n",
      "1. //thumbnews.nateimg.co.kr/news90///news.nateimg.co.kr/orgImg/sv/2025/07/25/202085836_700.jpg\n",
      "2. https://thumbnews.nateimg.co.kr/news90///news.nateimg.co.kr/orgImg/sv/2025/07/25/202085836_700.jpg\n"
     ]
    },
    {
     "data": {
      "text/html": [
       "<img src=\"https://thumbnews.nateimg.co.kr/news90///news.nateimg.co.kr/orgImg/sv/2025/07/25/202085836_700.jpg\"/>"
      ],
      "text/plain": [
       "<IPython.core.display.Image object>"
      ]
     },
     "metadata": {},
     "output_type": "display_data"
    },
    {
     "name": "stdout",
     "output_type": "stream",
     "text": [
      "미 국방부, 당국자 싱크탱크 포럼 참여 중지…\"트럼프 증오 조장\"\n"
     ]
    }
   ],
   "source": [
    "import requests\n",
    "from bs4 import BeautifulSoup\n",
    "from urllib.parse import urljoin\n",
    "from IPython.display import Image, display\n",
    "\n",
    "url = 'https://news.nate.com/recent?mid=n0100'\n",
    "print(url)\n",
    "\n",
    "# 요청헤더\n",
    "req_header = {\n",
    "    'user-agent': 'Mozilla/5.0 (Windows NT 10.0; Win64; x64) AppleWebKit/537.36 (KHTML, like Gecko) Chrome/104.0.0.0 Safari/537.36'\n",
    "}\n",
    "\n",
    "res = requests.get(url, headers=req_header)\n",
    "print(type(res))\n",
    "print(res.status_code)\n",
    "\n",
    "if res.ok:\n",
    "    # 응답 enconding 헤더 설정\n",
    "    res.encoding = 'euc-kr'\n",
    "    html = res.text\n",
    "    soup = BeautifulSoup(html, 'html.parser')\n",
    "    \n",
    "    #tags = soup.select(\"div.postListType.noListTitle div.mlt01\")\n",
    "    tags = soup.select(\"div.mlt01\")    \n",
    "    print(len(tags))\n",
    "\n",
    "    for idx,div_tag in enumerate(tags,1): \n",
    "        print(f'============>> {idx}')       \n",
    "        a_tag = div_tag.find('a')\n",
    "        a_join_url = urljoin(url,a_tag['href'])\n",
    "        # print('1.', a_tag['href'])\n",
    "        # print('2.', a_join_url)\n",
    "\n",
    "        img_tag = div_tag.select_one('span.ib img')\n",
    "        if img_tag:\n",
    "            photo_url = urljoin(url,img_tag['src'])\n",
    "            print(photo_url)\n",
    "            print('1.', img_tag['src'])\n",
    "            print('2.', photo_url)\n",
    "\n",
    "            display(Image(url=photo_url))\n",
    "\n",
    "        h2_tag = div_tag.select_one('span.tb h2.tit')\n",
    "        title = h2_tag.text\n",
    "        print(title)\n",
    "\n",
    "else:\n",
    "    print(f'에러코드 = {res.status_code}')"
   ]
  },
  {
   "cell_type": "markdown",
   "id": "a1094a64",
   "metadata": {},
   "source": [
    "### 2-2. 하나의 네이버 웹툰과 1개의 회차에 대한 Image 다운로드 하기 (필수)\n",
    "- 하나의 웹툰의 제목(title)과 회차번호(no),회차의URL(url) 을 입력으로 받는 함수를 선언합니다. \n",
    "   def download_one_episode(title,no,url):\n",
    "\n",
    "- 아래와 같이 호출합니다.\n",
    "\n",
    "  download_one_episode('일렉시드',341,'https://comic.naver.com/webtoon/detail?titleId=717481&no=341&week=wed')\n",
    "\n",
    "- img\\일렉시드\\341 디렉토리가 생성되며 , \n",
    "그 디렉토리 아래에 웹툰 image들이 다운로드 되도록 해주세요.\n"
   ]
  },
  {
   "cell_type": "code",
   "execution_count": null,
   "id": "baf67c41",
   "metadata": {},
   "outputs": [],
   "source": [
    "import requests\n",
    "from bs4 import BeautifulSoup\n",
    "import os\n",
    "\n",
    "def download_one_episode(title, no, url):\n",
    "    # 요청 헤더\n",
    "    req_header = {\n",
    "        'referer': url,\n",
    "        'user-agent': 'Mozilla/5.0 (Windows NT 10.0; Win64; x64) AppleWebKit/537.36 (KHTML, like Gecko) Chrome/104.0.0.0 Safari/537.36'\n",
    "    }\n",
    "\n",
    "    res = requests.get(url, headers=req_header)\n",
    "    if not res.ok:\n",
    "        print(f\"요청 실패: {res.status_code}\")\n",
    "        return\n",
    "\n",
    "    soup = BeautifulSoup(res.text, 'html.parser')\n",
    "\n",
    "    # 이미지 태그 선택 (IMAG01이 포함된 src)\n",
    "    img_tags = soup.select(\"img[src*='IMAG01']\")\n",
    "    if not img_tags:\n",
    "        print(\"이미지를 찾을 수 없습니다.\")\n",
    "        return\n",
    "\n",
    "    imgdir = 'img'\n",
    "    titledir = os.path.join(imgdir, title)\n",
    "    epdir = os.path.join(titledir, str(no))\n",
    "\n",
    "    if not os.path.isdir(imgdir):\n",
    "        os.mkdir(imgdir)\n",
    "\n",
    "    if not os.path.isdir(titledir):\n",
    "        os.mkdir(titledir)\n",
    "\n",
    "    if not os.path.isdir(epdir):\n",
    "        os.mkdir(epdir)\n",
    "\n",
    "\n",
    "    print(f\"{title} {no}화: 이미지 {len(img_tags)}개 다운로드 시작...\")\n",
    "\n",
    "    for idx, img_tag in enumerate(img_tags, start=1):\n",
    "        img_url = img_tag.get('src')\n",
    "        if not img_url:\n",
    "            continue\n",
    "\n",
    "        # 이미지 요청\n",
    "        img_res = requests.get(img_url, headers=req_header)\n",
    "        if not img_res.ok:\n",
    "            print(f\"⚠ 이미지 다운로드 실패: {img_url}\")\n",
    "            continue\n",
    "\n",
    "        # 저장 파일 이름: 0001.jpg, 0002.jpg, ..\n",
    "        ext = os.path.splitext(img_url)[1].split('?')[0] or '.jpg'\n",
    "        filename = f\"{idx:04d}{ext}\"\n",
    "        filepath = os.path.join(epdir, filename)\n",
    "\n",
    "        # 이미지 저장\n",
    "        with open(filepath, 'wb') as f:\n",
    "            f.write(img_res.content)\n",
    "            print(f\"저장 완료: {filepath} ({len(img_res.content):,} bytes)\")\n",
    "\n",
    "    print(f\"전체 저장 완료: {epdir}\")\n"
   ]
  },
  {
   "cell_type": "code",
   "execution_count": 14,
   "id": "01f6191e",
   "metadata": {},
   "outputs": [
    {
     "name": "stdout",
     "output_type": "stream",
     "text": [
      "일렉시드 341화: 이미지 88개 다운로드 시작...\n",
      "저장 완료: img\\일렉시드\\341\\0001.jpg (87,143 bytes)\n",
      "저장 완료: img\\일렉시드\\341\\0002.jpg (256,127 bytes)\n",
      "저장 완료: img\\일렉시드\\341\\0003.jpg (184,536 bytes)\n",
      "저장 완료: img\\일렉시드\\341\\0004.jpg (182,867 bytes)\n",
      "저장 완료: img\\일렉시드\\341\\0005.jpg (112,615 bytes)\n",
      "저장 완료: img\\일렉시드\\341\\0006.jpg (169,889 bytes)\n",
      "저장 완료: img\\일렉시드\\341\\0007.jpg (157,876 bytes)\n",
      "저장 완료: img\\일렉시드\\341\\0008.jpg (181,837 bytes)\n",
      "저장 완료: img\\일렉시드\\341\\0009.jpg (203,632 bytes)\n",
      "저장 완료: img\\일렉시드\\341\\0010.jpg (113,543 bytes)\n",
      "저장 완료: img\\일렉시드\\341\\0011.jpg (166,818 bytes)\n",
      "저장 완료: img\\일렉시드\\341\\0012.jpg (196,171 bytes)\n",
      "저장 완료: img\\일렉시드\\341\\0013.jpg (158,408 bytes)\n",
      "저장 완료: img\\일렉시드\\341\\0014.jpg (203,525 bytes)\n",
      "저장 완료: img\\일렉시드\\341\\0015.jpg (81,271 bytes)\n",
      "저장 완료: img\\일렉시드\\341\\0016.jpg (171,092 bytes)\n",
      "저장 완료: img\\일렉시드\\341\\0017.jpg (65,626 bytes)\n",
      "저장 완료: img\\일렉시드\\341\\0018.jpg (135,215 bytes)\n",
      "저장 완료: img\\일렉시드\\341\\0019.jpg (96,367 bytes)\n",
      "저장 완료: img\\일렉시드\\341\\0020.jpg (139,925 bytes)\n",
      "저장 완료: img\\일렉시드\\341\\0021.jpg (191,828 bytes)\n",
      "저장 완료: img\\일렉시드\\341\\0022.jpg (211,389 bytes)\n",
      "저장 완료: img\\일렉시드\\341\\0023.jpg (174,099 bytes)\n",
      "저장 완료: img\\일렉시드\\341\\0024.jpg (187,978 bytes)\n",
      "저장 완료: img\\일렉시드\\341\\0025.jpg (185,536 bytes)\n",
      "저장 완료: img\\일렉시드\\341\\0026.jpg (286,246 bytes)\n",
      "저장 완료: img\\일렉시드\\341\\0027.jpg (238,473 bytes)\n",
      "저장 완료: img\\일렉시드\\341\\0028.jpg (148,309 bytes)\n",
      "저장 완료: img\\일렉시드\\341\\0029.jpg (245,722 bytes)\n",
      "저장 완료: img\\일렉시드\\341\\0030.jpg (232,985 bytes)\n",
      "저장 완료: img\\일렉시드\\341\\0031.jpg (178,547 bytes)\n",
      "저장 완료: img\\일렉시드\\341\\0032.jpg (176,348 bytes)\n",
      "저장 완료: img\\일렉시드\\341\\0033.jpg (196,741 bytes)\n",
      "저장 완료: img\\일렉시드\\341\\0034.jpg (232,565 bytes)\n",
      "저장 완료: img\\일렉시드\\341\\0035.jpg (214,587 bytes)\n",
      "저장 완료: img\\일렉시드\\341\\0036.jpg (137,502 bytes)\n",
      "저장 완료: img\\일렉시드\\341\\0037.jpg (153,089 bytes)\n",
      "저장 완료: img\\일렉시드\\341\\0038.jpg (250,210 bytes)\n",
      "저장 완료: img\\일렉시드\\341\\0039.jpg (216,059 bytes)\n",
      "저장 완료: img\\일렉시드\\341\\0040.jpg (203,977 bytes)\n",
      "저장 완료: img\\일렉시드\\341\\0041.jpg (170,488 bytes)\n",
      "저장 완료: img\\일렉시드\\341\\0042.jpg (150,868 bytes)\n",
      "저장 완료: img\\일렉시드\\341\\0043.jpg (183,488 bytes)\n",
      "저장 완료: img\\일렉시드\\341\\0044.jpg (205,269 bytes)\n",
      "저장 완료: img\\일렉시드\\341\\0045.jpg (172,439 bytes)\n",
      "저장 완료: img\\일렉시드\\341\\0046.jpg (179,258 bytes)\n",
      "저장 완료: img\\일렉시드\\341\\0047.jpg (205,046 bytes)\n",
      "저장 완료: img\\일렉시드\\341\\0048.jpg (196,106 bytes)\n",
      "저장 완료: img\\일렉시드\\341\\0049.jpg (175,273 bytes)\n",
      "저장 완료: img\\일렉시드\\341\\0050.jpg (320,751 bytes)\n",
      "저장 완료: img\\일렉시드\\341\\0051.jpg (240,744 bytes)\n",
      "저장 완료: img\\일렉시드\\341\\0052.jpg (158,821 bytes)\n",
      "저장 완료: img\\일렉시드\\341\\0053.jpg (190,448 bytes)\n",
      "저장 완료: img\\일렉시드\\341\\0054.jpg (156,224 bytes)\n",
      "저장 완료: img\\일렉시드\\341\\0055.jpg (191,149 bytes)\n",
      "저장 완료: img\\일렉시드\\341\\0056.jpg (137,781 bytes)\n",
      "저장 완료: img\\일렉시드\\341\\0057.jpg (174,969 bytes)\n",
      "저장 완료: img\\일렉시드\\341\\0058.jpg (169,813 bytes)\n",
      "저장 완료: img\\일렉시드\\341\\0059.jpg (183,086 bytes)\n",
      "저장 완료: img\\일렉시드\\341\\0060.jpg (191,297 bytes)\n",
      "저장 완료: img\\일렉시드\\341\\0061.jpg (201,884 bytes)\n",
      "저장 완료: img\\일렉시드\\341\\0062.jpg (186,718 bytes)\n",
      "저장 완료: img\\일렉시드\\341\\0063.jpg (115,304 bytes)\n",
      "저장 완료: img\\일렉시드\\341\\0064.jpg (239,910 bytes)\n",
      "저장 완료: img\\일렉시드\\341\\0065.jpg (160,774 bytes)\n",
      "저장 완료: img\\일렉시드\\341\\0066.jpg (188,427 bytes)\n",
      "저장 완료: img\\일렉시드\\341\\0067.jpg (196,378 bytes)\n",
      "저장 완료: img\\일렉시드\\341\\0068.jpg (195,161 bytes)\n",
      "저장 완료: img\\일렉시드\\341\\0069.jpg (207,700 bytes)\n",
      "저장 완료: img\\일렉시드\\341\\0070.jpg (191,109 bytes)\n",
      "저장 완료: img\\일렉시드\\341\\0071.jpg (135,448 bytes)\n",
      "저장 완료: img\\일렉시드\\341\\0072.jpg (254,244 bytes)\n",
      "저장 완료: img\\일렉시드\\341\\0073.jpg (190,447 bytes)\n",
      "저장 완료: img\\일렉시드\\341\\0074.jpg (140,545 bytes)\n",
      "저장 완료: img\\일렉시드\\341\\0075.jpg (90,130 bytes)\n",
      "저장 완료: img\\일렉시드\\341\\0076.jpg (194,086 bytes)\n",
      "저장 완료: img\\일렉시드\\341\\0077.jpg (189,616 bytes)\n",
      "저장 완료: img\\일렉시드\\341\\0078.jpg (244,264 bytes)\n",
      "저장 완료: img\\일렉시드\\341\\0079.jpg (226,750 bytes)\n",
      "저장 완료: img\\일렉시드\\341\\0080.jpg (73,608 bytes)\n",
      "저장 완료: img\\일렉시드\\341\\0081.jpg (175,437 bytes)\n",
      "저장 완료: img\\일렉시드\\341\\0082.jpg (141,961 bytes)\n",
      "저장 완료: img\\일렉시드\\341\\0083.jpg (145,494 bytes)\n",
      "저장 완료: img\\일렉시드\\341\\0084.jpg (121,081 bytes)\n",
      "저장 완료: img\\일렉시드\\341\\0085.jpg (148,191 bytes)\n",
      "저장 완료: img\\일렉시드\\341\\0086.jpg (186,055 bytes)\n",
      "저장 완료: img\\일렉시드\\341\\0087.jpg (170,532 bytes)\n",
      "저장 완료: img\\일렉시드\\341\\0088.jpg (99,449 bytes)\n",
      "전체 저장 완료: img\\일렉시드\\341\n"
     ]
    }
   ],
   "source": [
    "download_one_episode('일렉시드', 341, 'https://comic.naver.com/webtoon/detail?titleId=717481&no=341&week=wed')\n"
   ]
  }
 ],
 "metadata": {
  "kernelspec": {
   "display_name": "base",
   "language": "python",
   "name": "python3"
  },
  "language_info": {
   "codemirror_mode": {
    "name": "ipython",
    "version": 3
   },
   "file_extension": ".py",
   "mimetype": "text/x-python",
   "name": "python",
   "nbconvert_exporter": "python",
   "pygments_lexer": "ipython3",
   "version": "3.12.7"
  }
 },
 "nbformat": 4,
 "nbformat_minor": 5
}
