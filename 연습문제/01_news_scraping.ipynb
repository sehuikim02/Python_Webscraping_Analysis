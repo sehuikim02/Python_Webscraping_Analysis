{
 "cells": [
  {
   "cell_type": "markdown",
   "id": "482e474d",
   "metadata": {},
   "source": [
    "## Daum 뉴스기사 제목 스크래핑하기 \n",
    "\n",
    "1. Daum 뉴스기사 제목 스크래핑하기 \n",
    "- 1-2. 아래의 url에서 뉴스기사의 링크와 제목을 출력하세요.\n",
    "  \n",
    "  다음 경제 뉴스 url = 'https://news.daum.net/economy'"
   ]
  },
  {
   "cell_type": "code",
   "execution_count": null,
   "id": "28db4a0e",
   "metadata": {},
   "outputs": [],
   "source": [
    "import requests\n",
    "from bs4 import BeautifulSoup\n",
    "\n",
    "url = \"https://news.daum.net/economy\"\n",
    "\n",
    "# 요청 헤더 설정 : 브라우저 정보\n",
    "req_header = {\n",
    "    \"user-agent\": \"Mozilla/5.0 (Windows NT 10.0; Win64; x64) AppleWebKit/537.36 (KHTML, like Gecko) Chrome/104.0.0.0 Safari/537.36\"\n",
    "}\n",
    "\n",
    "# requests 의 get() 함수 호출하기 \n",
    "res = requests.get(url, headers=req_header)\n",
    "print(url)\n",
    "print(type(res))\n",
    "print(res.status_code)\n",
    "\n",
    "# 정상 응답 여부 확인\n",
    "if res.ok:\n",
    "    res.encoding = 'utf-8'  # 인코딩 설정\n",
    "    #응답 데이터 인코딩\n",
    "    html = res.text\n",
    "    soup = BeautifulSoup(html, \"html.parser\")\n",
    "\n",
    "    # 기사 제목과 링크 추출\n",
    "    li_tags = soup.select('ul.list_newsheadline2 li')   # ul의 클래스이름인 list_newsheadline2의 li에 제목이 있으니까\n",
    "    print(type(li_tags), len(li_tags))\n",
    "\n",
    "    for li_tag in li_tags:          #li_tag = <li>\n",
    "        a_tag = li_tag.find('a')    #a_tag = <a href=\"\">\n",
    "        link = a_tag['href'].strip()\n",
    "\n",
    "        strong_tag = li_tag.select_one('div.cont_thumb strong.tit_txt') # 매칭되는 한개만 선택함\n",
    "        title = strong_tag.text.strip()\n",
    "\n",
    "        print(link)\n",
    "        print(title)\n",
    "\n",
    "else:\n",
    "    print(f'Error Code = {res.status_code}')\n"
   ]
  },
  {
   "cell_type": "markdown",
   "id": "aea84832",
   "metadata": {},
   "source": [
    "\n",
    "- 1-2. 여러개의 section 중 하나를 선택해서 url에서 뉴스기사의 링크와 제목을 출력하는 코드를 함수로 작성하기\n",
    "\n",
    "    경제 뉴스 URL\n",
    "    url = 'https://news.daum.net/economy'\n",
    "    \n",
    "    사회 뉴스 URL\n",
    "    url = 'https://news.daum.net/society'\n"
   ]
  },
  {
   "cell_type": "code",
   "execution_count": null,
   "id": "799dc25c",
   "metadata": {},
   "outputs": [],
   "source": [
    "import requests\n",
    "from bs4 import BeautifulSoup\n",
    "\n",
    "# 섹션별 URL 딕셔너리\n",
    "section_dict = {\n",
    "    '기후/환경': 'climate', '사회': 'society', '경제': 'economy', '정치': 'politics',\n",
    "    '국제': 'world', '문화': 'culture', '생활': 'life', 'IT/과학': 'tech', '인물': 'people',\n",
    "}\n",
    "\n",
    "def print_news(section):\n",
    "    section_name = section_dict.get(section)\n",
    "    if not section_name:\n",
    "        print(f\"'{section}'은(는) 잘못된 섹션입니다.\")\n",
    "        return\n",
    "    \n",
    "    url = f'https://news.daum.net/{section_name}'\n",
    "    print(f\"======> {url} {section} 뉴스 <======\")\n",
    "    \n",
    "    # 요청 헤더 설정\n",
    "    req_header = {\n",
    "        \"user-agent\": \"Mozilla/5.0 (Windows NT 10.0; Win64; x64) AppleWebKit/537.36 (KHTML, like Gecko) Chrome/104.0.0.0 Safari/537.36\"\n",
    "    }\n",
    "\n",
    "    res = requests.get(url, headers = req_header)\n",
    "\n",
    "    if res.ok:\n",
    "        res.encoding = 'utf-8'\n",
    "        soup = BeautifulSoup(res.text, \"html.parser\")\n",
    "\n",
    "        li_tags = soup.select('ul.list_newsheadline2 li')\n",
    "\n",
    "        for li_tag in li_tags:\n",
    "            a_tag = li_tag.find('a')\n",
    "            link = a_tag['href'].strip()\n",
    "\n",
    "            strong_tag = li_tag.select_one('div.cont_thumb strong.tit_txt')\n",
    "            title = strong_tag.text.strip()\n",
    "\n",
    "            print(link)\n",
    "            print(title)\n",
    "    else:\n",
    "        print(f'Error Code = {res.status_code}')\n"
   ]
  },
  {
   "cell_type": "code",
   "execution_count": null,
   "id": "cf3b31ee",
   "metadata": {},
   "outputs": [],
   "source": [
    "print_news('경제')\n"
   ]
  }
 ],
 "metadata": {
  "kernelspec": {
   "display_name": "base",
   "language": "python",
   "name": "python3"
  },
  "language_info": {
   "codemirror_mode": {
    "name": "ipython",
    "version": 3
   },
   "file_extension": ".py",
   "mimetype": "text/x-python",
   "name": "python",
   "nbconvert_exporter": "python",
   "pygments_lexer": "ipython3",
   "version": "3.12.7"
  }
 },
 "nbformat": 4,
 "nbformat_minor": 5
}
