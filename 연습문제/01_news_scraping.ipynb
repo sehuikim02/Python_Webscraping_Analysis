{
 "cells": [
  {
   "cell_type": "markdown",
   "id": "482e474d",
   "metadata": {},
   "source": [
    " Daum 뉴스기사 제목 스크래핑하기 \n",
    "\n",
    "1-1 Daum 뉴스기사 제목 스크래핑하기 \n",
    "- 아래의 url에서 뉴스기사의 링크와 제목을 출력하세요.\n",
    "   다음 경제 뉴스 URL\n",
    "    url = 'https://news.daum.net/economy'"
   ]
  },
  {
   "cell_type": "code",
   "execution_count": null,
   "id": "28db4a0e",
   "metadata": {},
   "outputs": [],
   "source": []
  },
  {
   "cell_type": "markdown",
   "id": "aea84832",
   "metadata": {},
   "source": [
    "1-2 여러개의 section 중 하나를 선택해서 url에서 뉴스기사의 링크와 제목을 출력하는 코드를 함수로 작성하기\n",
    "\n",
    "    경제 뉴스 URL\n",
    "    url = 'https://news.daum.net/economy'\n",
    "    \n",
    "    사회 뉴스 URL\n",
    "    url = 'https://news.daum.net/society'\n"
   ]
  },
  {
   "cell_type": "code",
   "execution_count": null,
   "id": "799dc25c",
   "metadata": {},
   "outputs": [],
   "source": []
  }
 ],
 "metadata": {
  "language_info": {
   "name": "python"
  }
 },
 "nbformat": 4,
 "nbformat_minor": 5
}
